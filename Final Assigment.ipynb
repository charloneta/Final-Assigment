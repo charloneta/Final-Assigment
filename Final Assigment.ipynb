{
  "metadata": {
    "language_info": {
      "codemirror_mode": {
        "name": "python",
        "version": 3
      },
      "file_extension": ".py",
      "mimetype": "text/x-python",
      "name": "python",
      "nbconvert_exporter": "python",
      "pygments_lexer": "ipython3",
      "version": "3.8"
    },
    "kernelspec": {
      "name": "python",
      "display_name": "Python (Pyodide)",
      "language": "python"
    }
  },
  "nbformat_minor": 4,
  "nbformat": 4,
  "cells": [
    {
      "cell_type": "markdown",
      "source": "## Final Assigment\n\n",
      "metadata": {}
    },
    {
      "cell_type": "markdown",
      "source": "**Introduction**\n\nThis assigment reviews what has been covered in the Data Science Tools course.",
      "metadata": {}
    },
    {
      "cell_type": "markdown",
      "source": "**Data Science Languages**\n\nThe most relevant Languages for Data Science are Python, R and SQL. Besides, C++, Java, Javascript and Julia are also important, among others.",
      "metadata": {}
    },
    {
      "cell_type": "markdown",
      "source": "**Data Science Libraries**\n\nSome examples of Data Science Libraries are Pandas, Matplotlib, Scikit-learn, ggplot2, Spark, among others.",
      "metadata": {}
    },
    {
      "cell_type": "markdown",
      "source": "**Commercial Data Science Tools**\n\n| Data Management | Data Integration and Transformation | Data Visualization | Model Building | Data Asset Management |\n| --------------- | ----------------------------------- | ------------------ | -------------- | --------------------- |\n| Oracle Database, MS SQL Server | Informatica, Talend | Power BI, Tableau | SPPS, IBM Watson Studio | IBM, Informatica |",
      "metadata": {}
    },
    {
      "cell_type": "markdown",
      "source": "**Arithmetic Expression Examples**\n\n1+1 = 2\n\n4*5 = 20\n\n6-2 = 4",
      "metadata": {}
    },
    {
      "cell_type": "code",
      "source": "# Code to multiply and add numbers\n\nmultiply= x*y\nadd= x+y\n\n# For example, if:\n\nx=3\ny=6\n\nprint(multiply)\nprint(add)",
      "metadata": {
        "trusted": true
      },
      "execution_count": 8,
      "outputs": [
        {
          "name": "stdout",
          "text": "18\n9\n",
          "output_type": "stream"
        }
      ]
    },
    {
      "cell_type": "code",
      "source": "# Code to convert minutes to hours\n\nhours=minutes/60\n\n# For example, if:\n\nminutes=30\n\nprint(hours)\n",
      "metadata": {
        "trusted": true
      },
      "execution_count": 9,
      "outputs": [
        {
          "name": "stdout",
          "text": "0.5\n",
          "output_type": "stream"
        }
      ]
    },
    {
      "cell_type": "markdown",
      "source": "**Objectives**\n\n- Becoming familiar with the jupyterlite environment.\n- Create Markdown cells with different formats.\n- Create different code cells.",
      "metadata": {}
    },
    {
      "cell_type": "markdown",
      "source": "#### Author: Carboni",
      "metadata": {}
    }
  ]
}